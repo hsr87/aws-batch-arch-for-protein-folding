{
 "cells": [
  {
   "cell_type": "markdown",
   "id": "72af22c1-16c3-44d1-a0c4-a5f7754c438d",
   "metadata": {},
   "source": [
    "# Agent for Drug Discovery"
   ]
  },
  {
   "cell_type": "markdown",
   "id": "64fe76fb-a6a9-41ac-b598-22fa96c8559a",
   "metadata": {},
   "source": [
    "## Setting up the environment"
   ]
  },
  {
   "cell_type": "code",
   "execution_count": 1,
   "id": "d7a21d26-54ae-4319-9fc9-c41538b8ae91",
   "metadata": {
    "tags": []
   },
   "outputs": [],
   "source": [
    "%load_ext autoreload\n",
    "%autoreload 2"
   ]
  },
  {
   "cell_type": "code",
   "execution_count": 2,
   "id": "ad1e2560-dcf3-4248-9646-66ec888a1a02",
   "metadata": {
    "tags": []
   },
   "outputs": [
    {
     "name": "stderr",
     "output_type": "stream",
     "text": [
      "/home/ec2-user/anaconda3/envs/python3/lib/python3.10/site-packages/sklearn/utils/_param_validation.py:11: UserWarning: A NumPy version >=1.23.5 and <2.3.0 is required for this version of SciPy (detected version 1.23.3)\n",
      "  from scipy.sparse import csr_matrix, issparse\n"
     ]
    }
   ],
   "source": [
    "import os\n",
    "import sys\n",
    "import json\n",
    "import pathlib\n",
    "\n",
    "from decimal import Decimal\n",
    "import pandas as pd\n",
    "from sklearn.metrics import mean_squared_error\n",
    "import numpy as np\n",
    "import seaborn as sns\n",
    "from scipy import stats\n",
    "import matplotlib.pyplot as plt\n",
    "\n",
    "from typing import Annotated, Any, Dict, List, Sequence, Tuple, TypedDict\n",
    "\n",
    "import time\n",
    "from datetime import datetime\n",
    "\n",
    "import threading\n",
    "from queue import Queue\n",
    "import signal\n",
    "\n",
    "import boto3\n",
    "from botocore.config import Config\n",
    "from batchfold.batchfold_environment import BatchFoldEnvironment\n",
    "from batchfold.batchfold_target import BatchFoldTarget\n",
    "from batchfold.jackhmmer_job import JackhmmerJob\n",
    "from batchfold.alphafold2_job import AlphaFold2Job\n",
    "from batchfold.utils import utils\n",
    "\n",
    "from langchain_aws import ChatBedrockConverse\n",
    "from langchain_core.messages import AIMessage, HumanMessage\n",
    "from langgraph.graph import graph, END, StateGraph\n",
    "from langchain.prompts import ChatPromptTemplate\n",
    "\n",
    "from Bio import SeqIO\n",
    "\n",
    "# import local modules\n",
    "dir_current = os.path.abspath(\"\")\n",
    "dir_parent = os.path.dirname(dir_current)\n",
    "if dir_parent not in sys.path:\n",
    "    sys.path.append(dir_parent)"
   ]
  },
  {
   "cell_type": "code",
   "execution_count": 3,
   "id": "63a3e774-87d7-464b-a085-2d83226e4004",
   "metadata": {
    "tags": []
   },
   "outputs": [],
   "source": [
    "# set region and model name\n",
    "aws_region = \"us-west-2\"\n",
    "model_name = \"anthropic.claude-3-5-sonnet-20241022-v2:0\"\n",
    "\n",
    "# Set bedrock configs\n",
    "bedrock_config = Config(\n",
    "    connect_timeout=300, read_timeout=300, retries={\"max_attempts\": 10}\n",
    ")\n",
    "\n",
    "# Create a bedrock runtime client\n",
    "bedrock_rt = boto3.client(\n",
    "    \"bedrock-runtime\", region_name=aws_region, config=bedrock_config\n",
    ")\n",
    "\n",
    "# make llm\n",
    "def make_llm(model=model_name, temperature=0, max_tokens=None):\n",
    "    llm = ChatBedrockConverse(\n",
    "        client=bedrock_rt,\n",
    "        model=model,\n",
    "        temperature=temperature,\n",
    "        max_tokens=max_tokens,\n",
    "    )\n",
    "    return llm"
   ]
  },
  {
   "cell_type": "code",
   "execution_count": 4,
   "id": "af29302c-988e-4e71-a5d3-689c94a9f7cd",
   "metadata": {
    "tags": []
   },
   "outputs": [],
   "source": [
    "# Create AWS clients\n",
    "boto_session = boto3.session.Session()\n",
    "\n",
    "batch_environment = BatchFoldEnvironment(boto_session=boto_session)\n",
    "\n",
    "S3_BUCKET = batch_environment.default_bucket\n",
    "# print(f\" S3 bucket name is {S3_BUCKET}\")"
   ]
  },
  {
   "cell_type": "code",
   "execution_count": 5,
   "id": "d11cc321-1875-445b-8fe7-61a8c92a10aa",
   "metadata": {
    "tags": []
   },
   "outputs": [],
   "source": [
    "# setting dynamoDB\n",
    "dynamodb = boto3.resource('dynamodb')\n",
    "table = dynamodb.Table('Experiment')"
   ]
  },
  {
   "cell_type": "code",
   "execution_count": 6,
   "id": "3ff7408b-ae3f-444d-840b-36b0bbbcb7fe",
   "metadata": {
    "tags": []
   },
   "outputs": [
    {
     "data": {
      "text/plain": [
       "['CPUOnDemandJobQueue', 'CPUSpotJobQueue', 'G4dnJobQueue']"
      ]
     },
     "execution_count": 6,
     "metadata": {},
     "output_type": "execute_result"
    }
   ],
   "source": [
    "batch_environment.list_job_queue_names()"
   ]
  },
  {
   "cell_type": "markdown",
   "id": "9bde86eb-a688-4af6-819c-2ef6b9d64457",
   "metadata": {},
   "source": [
    "## Agent using LangGraph"
   ]
  },
  {
   "cell_type": "markdown",
   "id": "68d8470a-1495-43b4-9486-150909f11032",
   "metadata": {},
   "source": [
    "### Define agent state"
   ]
  },
  {
   "cell_type": "code",
   "execution_count": 7,
   "id": "c4dc2def-4f06-4f51-bbb0-dda1f524e7c7",
   "metadata": {
    "tags": []
   },
   "outputs": [],
   "source": [
    "class AgentState(TypedDict):\n",
    "    messages: Sequence[HumanMessage | AIMessage]\n",
    "    next_step: str | None\n",
    "    files: Dict[str, Any]\n",
    "    current_response: str | None\n",
    "    proteins: BatchFoldTarget | None"
   ]
  },
  {
   "cell_type": "markdown",
   "id": "6cd2f1a5-0afe-4da9-9f7d-d44eca7bd69b",
   "metadata": {},
   "source": [
    "### Define route function that decides next action"
   ]
  },
  {
   "cell_type": "code",
   "execution_count": 8,
   "id": "04eb1d04-1e8f-494c-8cb2-f74cb9a926e7",
   "metadata": {
    "tags": []
   },
   "outputs": [],
   "source": [
    "def route(state: AgentState) -> Dict[str, str]:\n",
    "    \n",
    "    messages = state[\"messages\"]\n",
    "    \n",
    "    if messages[-1].content.lower() in [\"종료\"]:\n",
    "        return {\"next_step\": \"terminate\"}\n",
    "    \n",
    "    # 라우팅을 위한 프롬프트 템플릿\n",
    "    prompt = ChatPromptTemplate.from_messages([\n",
    "        (\"system\", \"\"\"You are a smart AI research assistant that helps users analyze various types of data and answer questions in drug discovery.\n",
    "        Based on the user's input, you need to decide which action to take:\n",
    "        1. \"basic_qa\" - Use your general knowledge to answer basic questions\n",
    "        2. \"data_analysis\" - Analyze data from provided files (CSV, etc.)\n",
    "        3. \"tool_use\" - Use external tools like AlphaFold for specific tasks\n",
    "        \n",
    "        Respond with ONLY ONE of three options: \"basic_qa\", \"data_analysis\", or \"tool_use\".\n",
    "        \"\"\"),\n",
    "        (\"human\", \"Here's the conversation history and latest message. Decide what action to take next:\\n{input}\")\n",
    "    ])\n",
    "    \n",
    "    llm = make_llm()\n",
    "    response = llm.invoke(prompt.format_messages(input=messages[-1].content))\n",
    "    action = response.content.strip()\n",
    "    \n",
    "    # 상태 업데이트\n",
    "    new_state = state.copy()\n",
    "    new_state[\"next_step\"] = action\n",
    "    \n",
    "    return new_state"
   ]
  },
  {
   "cell_type": "markdown",
   "id": "fd071c0f-2f86-422b-99b6-70cd7c82ba79",
   "metadata": {},
   "source": [
    "### Define a function to handle basic QAs"
   ]
  },
  {
   "cell_type": "code",
   "execution_count": 9,
   "id": "dc562bda-e1f7-44e7-af71-8a7ffed5f6c2",
   "metadata": {
    "tags": []
   },
   "outputs": [],
   "source": [
    "def handle_basic_qa(state: AgentState) -> AgentState:\n",
    "\n",
    "    messages = state[\"messages\"]\n",
    "    \n",
    "    prompt = ChatPromptTemplate.from_messages([\n",
    "        (\"system\", \"You are a knowledgeable AI assistant for drug discovery. Answer the question based on your general knowledge.\"),\n",
    "        (\"human\", \"{input}\")\n",
    "    ])\n",
    "    \n",
    "    llm = make_llm()\n",
    "    response = llm.invoke(prompt.format_messages(input=messages[-1].content))\n",
    "    \n",
    "    new_state = state.copy()\n",
    "    new_state[\"current_response\"] = response.content\n",
    "    return new_state"
   ]
  },
  {
   "cell_type": "markdown",
   "id": "7677f4b9-cd35-4d6c-969b-882a1fe38eb3",
   "metadata": {},
   "source": [
    "### Define a function to handle data analysis task from input files"
   ]
  },
  {
   "cell_type": "code",
   "execution_count": 10,
   "id": "39631954-da4c-4c72-bb70-9a6634ac1951",
   "metadata": {
    "tags": []
   },
   "outputs": [],
   "source": [
    "def handle_data_analysis(state: AgentState) -> AgentState:\n",
    "    \n",
    "    messages = state[\"messages\"]\n",
    "    files = state[\"files\"]\n",
    "    \n",
    "    required_files = {\"training.csv\", \"test.csv\"}\n",
    "    missing_files = required_files - files.keys()\n",
    "    \n",
    "    if missing_files:\n",
    "        raise FileNotFoundError(f\"필요한 파일이 없습니다: {', '.join(missing_files)}\")\n",
    "    \n",
    "    prompt = ChatPromptTemplate.from_messages([\n",
    "        (\"system\", \"\"\"You are a data analysis expert in the field of drug discovery. \n",
    "        Please learn the pattern between input molecules and output in the training data.\n",
    "        Then, using your basic knowledge and waht you learned from the training data, predict output for the molecules in the test data.\n",
    "        Please generate only the requested output, without any additional explanations, comments, or suggestions.\n",
    "        Please provide your response in a CSV format with columns: input,output,property name.\n",
    "        Each row should contain: SMILES string, predicted property, and the name of property as in the training data.\n",
    "        \"\"\"),\n",
    "        (\"human\", \"\"\"Training data: {training_data}\\n\n",
    "        Test data: {test_data}\\n\n",
    "        \"\"\")\n",
    "    ])\n",
    "    \n",
    "    llm = make_llm()\n",
    "    \n",
    "    response = llm.invoke(prompt.format_messages(\n",
    "        input = messages[-1].content,\n",
    "        training_data = files['training.csv'],\n",
    "        test_data = files['test.csv'],\n",
    "        )\n",
    "    )\n",
    "    \n",
    "    def _parse_claude_response(response: str) -> List[Dict]:\n",
    "        \"\"\"\n",
    "        Claude의 응답에서 분자와 예측된 용해도를 추출\n",
    "        응답 형식은 자유로울 수 있으므로, 숫자와 SMILES를 추출하는 로직이 필요할 수 있습니다\n",
    "        \"\"\"\n",
    "        # 여기에 응답 파싱 로직을 구현\n",
    "        # 예시: 응답이 CSV 형식이라고 가정\n",
    "        try:\n",
    "            from io import StringIO\n",
    "            df = pd.read_csv(StringIO(response))\n",
    "            return df.to_dict('records')\n",
    "        except:\n",
    "            # CSV 파싱이 실패할 경우의 대체 로직\n",
    "            # 정규표현식이나 다른 파싱 방법을 사용할 수 있습니다\n",
    "            pass\n",
    "    \n",
    "    def _save_predictions_to_csv(predictions: List[Dict], filename: str = \"molecule/test_prediction.csv\"):\n",
    "        \"\"\"예측 결과를 CSV 파일로 저장\"\"\"\n",
    "        df = pd.DataFrame(predictions)\n",
    "        df.to_csv(filename, index=False)\n",
    "        print(f\"예측 결과가 {filename}에 저장되었습니다.\")\n",
    "    \n",
    "    predictions = _parse_claude_response(response.content)\n",
    "    _save_predictions_to_csv(predictions)\n",
    "    \n",
    "    new_state = state.copy()\n",
    "    new_state[\"current_response\"] = response\n",
    "    return new_state"
   ]
  },
  {
   "cell_type": "markdown",
   "id": "7b6c46b7-8162-4fed-8e14-c451e08d75fc",
   "metadata": {},
   "source": [
    "##### Correlation plot for the reulsts"
   ]
  },
  {
   "cell_type": "code",
   "execution_count": 11,
   "id": "79b205bf-48ba-4a50-af3d-76f5934f0e9c",
   "metadata": {
    "tags": []
   },
   "outputs": [],
   "source": [
    "def load_and_prepare_data(previous_file, current_file):\n",
    "    \"\"\"두 CSV 파일을 읽고 데이터를 준비\"\"\"\n",
    "    df_prev = pd.read_csv(previous_file)\n",
    "    df_curr = pd.read_csv(current_file)\n",
    "    \n",
    "    # SMILES를 기준으로 데이터 병합\n",
    "    merged_df = pd.merge(df_prev, df_curr, \n",
    "                        on='input', \n",
    "                        suffixes=('_previous', '_current'))\n",
    "    \n",
    "    # 용해도 값을 float로 변환\n",
    "    merged_df['output_previous'] = merged_df['output_previous'].astype(float)\n",
    "    merged_df['output_current'] = merged_df['output_current'].astype(float)\n",
    "    \n",
    "    return merged_df\n",
    "\n",
    "def create_correlation_plot(merged_df, output_file='correlation_plot.png'):\n",
    "    \"\"\"상관관계 플롯 생성\"\"\"\n",
    "    # 피어슨 상관계수 계산\n",
    "    correlation = stats.pearsonr(merged_df['output_previous'], \n",
    "                               merged_df['output_current'])\n",
    "    r_squared = correlation[0]**2\n",
    "    \n",
    "    # 플롯 생성\n",
    "    plt.figure(figsize=(10, 8))\n",
    "    \n",
    "    # 산점도\n",
    "    sns.scatterplot(data=merged_df, \n",
    "                   x='output_previous', \n",
    "                   y='output_current', \n",
    "                   alpha=0.6)\n",
    "    \n",
    "    # 대각선 추가 (y=x 라인)\n",
    "    min_val = min(merged_df['output_previous'].min(), \n",
    "                 merged_df['output_current'].min())\n",
    "    max_val = max(merged_df['output_previous'].max(), \n",
    "                 merged_df['output_current'].max())\n",
    "    plt.plot([min_val, max_val], [min_val, max_val], \n",
    "             'r--', label='y=x')\n",
    "    \n",
    "    # 회귀선 추가\n",
    "    sns.regplot(data=merged_df, \n",
    "                x='output_previous', \n",
    "                y='output_current', \n",
    "                scatter=False, \n",
    "                color='blue', \n",
    "                line_kws={'label': f'Regression line\\nR² = {r_squared:.3f}'})\n",
    "    \n",
    "    # 그래프 스타일링\n",
    "    plt.title('Correlation between Previous and Current Solubility Predictions', \n",
    "             fontsize=14, pad=20)\n",
    "    plt.xlabel('Previous Predictions', fontsize=12)\n",
    "    plt.ylabel('Current Predictions', fontsize=12)\n",
    "    plt.grid(True, alpha=0.3)\n",
    "    plt.legend()\n",
    "    \n",
    "    # RMSE 계산\n",
    "    rmse = np.sqrt(mean_squared_error(merged_df['output_previous'], \n",
    "                                    merged_df['output_current']))\n",
    "    \n",
    "    # 통계 정보 추가\n",
    "    stats_text = (f'Statistics:\\n'\n",
    "                 f'R² = {r_squared:.3f}\\n'\n",
    "                 f'RMSE = {rmse:.3f}\\n'\n",
    "                 f'Pearson r = {correlation[0]:.3f}\\n'\n",
    "                 f'p-value = {correlation[1]:.3e}')\n",
    "    \n",
    "    plt.text(0.05, 0.95, stats_text, \n",
    "             transform=plt.gca().transAxes, \n",
    "             bbox=dict(facecolor='white', alpha=0.8),\n",
    "             verticalalignment='top', \n",
    "             fontsize=10)\n",
    "    \n",
    "    # 그래프 저장\n",
    "    plt.tight_layout()\n",
    "    plt.savefig(output_file, dpi=300, bbox_inches='tight')\n",
    "    print(f\"상관관계 플롯이 {output_file}에 저장되었습니다.\")\n",
    "    \n",
    "    return r_squared, rmse, correlation"
   ]
  },
  {
   "cell_type": "markdown",
   "id": "075041e9-f8c6-48c1-ac9e-892d976b89d0",
   "metadata": {},
   "source": [
    "### Define tools for drug discovery"
   ]
  },
  {
   "cell_type": "code",
   "execution_count": 12,
   "id": "af5c428e-99bd-4d5f-801e-fc66571f18a2",
   "metadata": {
    "tags": []
   },
   "outputs": [],
   "source": [
    "# alphafold\n",
    "def alphafold_protein_structure_prediction(state: AgentState) -> AgentState:\n",
    "\n",
    "    try:\n",
    "        for fasta in state[\"proteins\"]:\n",
    "            target_id, sequence = fasta.id, str(fasta.seq)\n",
    "            try:\n",
    "                description = fasta.description\n",
    "            except:\n",
    "                description = \"None\"\n",
    "            target_id = target_id.split(\"_\")[0]\n",
    "            target = BatchFoldTarget(target_id=target_id, s3_bucket=S3_BUCKET, boto_session=boto_session)\n",
    "            target.add_sequence(\n",
    "                seq_id=target_id,\n",
    "                seq=sequence,\n",
    "                description=description,\n",
    "            )\n",
    "\n",
    "            job_name = target.target_id + \"_JackhmmerJob_\" + datetime.now().strftime(\"%Y%m%d%s\")\n",
    "            jackhmmer_job = JackhmmerJob(\n",
    "                job_name=job_name,\n",
    "                target_id=target.target_id,\n",
    "                fasta_s3_uri=target.get_fasta_s3_uri(),\n",
    "                output_s3_uri=target.get_msas_s3_uri(),\n",
    "                boto_session=boto_session,\n",
    "                cpu=16,\n",
    "                memory=31,\n",
    "            )\n",
    "            jackhmmer_submission = batch_environment.submit_job(\n",
    "                jackhmmer_job, job_queue_name=\"CPUOnDemandJobQueue\"\n",
    "            )\n",
    "\n",
    "            job_name = target.target_id + \"_AlphaFold2Job_\" + datetime.now().strftime(\"%Y%m%d%s\")\n",
    "            alphafold2_job = AlphaFold2Job(\n",
    "                job_name=job_name,\n",
    "                target_id=target.target_id,\n",
    "                fasta_s3_uri=target.get_fasta_s3_uri(),\n",
    "                msa_s3_uri=target.get_msas_s3_uri(),\n",
    "                output_s3_uri=target.get_predictions_s3_uri() + \"/\" + job_name,\n",
    "                boto_session=boto_session,\n",
    "                cpu=4,\n",
    "                memory=15,  # Why not 16? ECS needs about 1 GB for container services\n",
    "                gpu=1,\n",
    "            )\n",
    "            alphafold2_submission = batch_environment.submit_job(\n",
    "                alphafold2_job, job_queue_name=\"G4dnJobQueue\", depends_on=[jackhmmer_submission]\n",
    "            )\n",
    "\n",
    "        new_state = state.copy()\n",
    "        new_state[\"current_response\"] = f\"All jobs are submitted successfully!.\\nYour result will be saved in {target.get_predictions_s3_uri() + '/' + job_name}\"\n",
    "    \n",
    "    except Exception as e:\n",
    "        new_state[\"current_response\"] = f\"Some jobs are failed!\\n에러 메시지: {str(e)}\"\n",
    "\n",
    "    return new_state"
   ]
  },
  {
   "cell_type": "code",
   "execution_count": 13,
   "id": "3f652bad-b1aa-4430-b7f5-7a89edf9e39a",
   "metadata": {
    "tags": []
   },
   "outputs": [],
   "source": [
    "TOOLS = [\n",
    "    {\n",
    "        \"name\": \"alphafold_protein_structure_prediction\",\n",
    "        \"function_name\": alphafold_protein_structure_prediction,\n",
    "        \"description\": \"Predict protein structure using Multiple Sequence Alignment\",\n",
    "        \"input_file\": \"fasta\"\n",
    "    }\n",
    "]"
   ]
  },
  {
   "cell_type": "markdown",
   "id": "78c2f2cc-8143-4cf6-b127-0511450f525f",
   "metadata": {},
   "source": [
    "### Define a function to handle tools "
   ]
  },
  {
   "cell_type": "code",
   "execution_count": 14,
   "id": "fa510d0e-e649-4ecb-99b1-563cf0c550f6",
   "metadata": {
    "tags": []
   },
   "outputs": [],
   "source": [
    "def tool_use(state: AgentState) -> AgentState:\n",
    "    messages = state[\"messages\"]\n",
    "    \n",
    "    tools_prompt = \"\"\n",
    "    tools_types = \"\"\n",
    "    tools_num = len(TOOLS)\n",
    "    for index, tool in enumerate(TOOLS):\n",
    "        tools_prompt += f'{index+1}. \"{tool[\"name\"]}\" - {tool[\"description\"]} '\n",
    "        \n",
    "        if index < tools_num-1:\n",
    "            tools_types += f'\"{tool[\"name\"]}'\n",
    "            tools_types += ', '\n",
    "        else:\n",
    "            tools_types += \"or \"\n",
    "            tools_types += f'\"{tool[\"name\"]}'\n",
    "            \n",
    "    _nums = {1:'one',\n",
    "        2:'two',\n",
    "        3:'three',\n",
    "        4:'four',\n",
    "        5:'five',\n",
    "        6:'six',\n",
    "        7:'seven',\n",
    "        8:'eight',\n",
    "        9:'nine'}\n",
    "    \n",
    "    prompt = ChatPromptTemplate.from_messages([\n",
    "        (\"system\", f\"\"\"You are an AI assistant that can use external tools.\n",
    "        Based on the user's input, you need to decide which action to take:\n",
    "        \n",
    "        \n",
    "        Currently available tools: \n",
    "        {tools_prompt}\n",
    "        \n",
    "        Respond with ONLY ONE of {_nums[tools_num]} options: {tools_types}.\"\"\"),\n",
    "        (\"human\", \"Here's the conversation history and latest message. Decide what action to take next:\\n{input}\")\n",
    "    ])\n",
    "    \n",
    "    llm = make_llm()\n",
    "    response = llm.invoke(prompt.format_messages(input=messages[-1].content))\n",
    "    \n",
    "    action = response.content.strip()\n",
    "    \n",
    "    # 상태 업데이트\n",
    "    new_state = state.copy()\n",
    "    new_state[\"next_step\"] = action\n",
    "    return new_state"
   ]
  },
  {
   "cell_type": "markdown",
   "id": "e5757ed8-0a6a-4b52-8606-d3ac788cb8ad",
   "metadata": {},
   "source": [
    "### Define a graph"
   ]
  },
  {
   "cell_type": "code",
   "execution_count": 15,
   "id": "70fe5994-f916-4e4b-b16f-350c6e0d5eed",
   "metadata": {
    "tags": []
   },
   "outputs": [],
   "source": [
    "def create_agent_graph():\n",
    "    workflow = StateGraph(AgentState)\n",
    "    \n",
    "    # Add nodes\n",
    "    workflow.add_node(\"route\", route)\n",
    "    workflow.add_node(\"basic_qa\", handle_basic_qa)\n",
    "    workflow.add_node(\"data_analysis\", handle_data_analysis)\n",
    "    workflow.add_node(\"tool_use\", tool_use)\n",
    "    \n",
    "    for tool in TOOLS:\n",
    "        workflow.add_node(tool[\"name\"], tool[\"function_name\"])\n",
    "    \n",
    "    # Add edges\n",
    "    workflow.set_entry_point(\"route\")\n",
    "    \n",
    "    workflow.add_conditional_edges(\n",
    "        \"route\",\n",
    "        lambda x: x[\"next_step\"],\n",
    "        {\n",
    "            \"basic_qa\": \"basic_qa\",\n",
    "            \"data_analysis\": \"data_analysis\",\n",
    "            \"tool_use\": \"tool_use\",\n",
    "            \"end\": END\n",
    "        },\n",
    "    )\n",
    "    \n",
    "    workflow.add_conditional_edges(\n",
    "        \"tool_use\", \n",
    "        lambda x: x[\"next_step\"],\n",
    "        dict((tool[\"name\"], tool[\"name\"]) for tool in TOOLS),\n",
    "    )\n",
    "    \n",
    "    # 응답 생성 엣지\n",
    "    workflow.add_edge(\"basic_qa\", END)\n",
    "    workflow.add_edge(\"data_analysis\", END)\n",
    "    \n",
    "    for tool in TOOLS:\n",
    "        workflow.add_edge(tool[\"name\"], END)\n",
    "    \n",
    "    return workflow.compile()"
   ]
  },
  {
   "cell_type": "markdown",
   "id": "e5398c7f-0dcc-4294-ae63-5648abef5bda",
   "metadata": {},
   "source": [
    "### Define agent class"
   ]
  },
  {
   "cell_type": "code",
   "execution_count": 16,
   "id": "b730ee11-59ec-4c13-baaa-3d0109c9da99",
   "metadata": {
    "tags": []
   },
   "outputs": [],
   "source": [
    "class DrugDiscoveryAssistantAgent:\n",
    "    def __init__(self):\n",
    "        self.graph = create_agent_graph()\n",
    "        self.state = {\n",
    "            \"messages\": [],\n",
    "            \"next_step\": None,\n",
    "            \"files\": {},\n",
    "            \"current_response\": None,\n",
    "        }\n",
    "        \n",
    "    def _convert_floats_to_decimals(self, obj):\n",
    "        \"\"\"\n",
    "        Convert float values to Decimal for DynamoDB compatibility\n",
    "        \"\"\"\n",
    "        if isinstance(obj, dict):\n",
    "            return {k: self._convert_floats_to_decimals(v) for k, v in obj.items()}\n",
    "        elif isinstance(obj, list):\n",
    "            return [self._convert_floats_to_decimals(i) for i in obj]\n",
    "        elif isinstance(obj, float):\n",
    "            return Decimal(str(obj))\n",
    "        return obj\n",
    "    \n",
    "    def add_csv_file(self, file_name: str):\n",
    "        \"\"\"\n",
    "        Add CSV data to LLM's input\n",
    "\n",
    "        Args:\n",
    "            file_name (str): Path to the CSV file\n",
    "        \"\"\"\n",
    "        df = pd.read_csv(f\"molecule/{file_name}\")\n",
    "        self.state[\"files\"][file_name] = df.to_string(index=False)\n",
    "        \n",
    "    def add_and_save_csv_file(self, file_name: str, experiment_name: str=None, user_name: str=\"hasunyu\"):\n",
    "        \"\"\"\n",
    "        Upload CSV data to DynamoDB\n",
    "\n",
    "        Args:\n",
    "            csv_file_path (str): Path to the CSV file\n",
    "            experiment_name (str, optional): Custom experiment ID. If not provided, generates one\n",
    "        \"\"\"\n",
    "        df = pd.read_csv(f\"molecule/{file_name}\")\n",
    "        self.state[\"files\"][file_name] = df.to_string(index=False)\n",
    "\n",
    "        data = df.to_dict('records')\n",
    "        \n",
    "        data = self._convert_floats_to_decimals(data)\n",
    "        \n",
    "        current_date = datetime.now().strftime(\"%Y%m%d%s\")\n",
    "        \n",
    "        if not experiment_name:\n",
    "            experiment_id = f\"Experiment_{user_name}_{current_date}\"\n",
    "        else:\n",
    "            experiment_id = f\"{experiment_name}_{user_name}_{current_date}\"\n",
    "            \n",
    "        experiment_item = {\n",
    "            'ExperimentID': experiment_id,\n",
    "            'Data': data,\n",
    "        }\n",
    "        \n",
    "        try:\n",
    "            response = table.put_item(Item=experiment_item)\n",
    "            print(f\"Successfully uploaded experiment {experiment_id} to DynamoDB\")\n",
    "\n",
    "        except Exception as e:\n",
    "            print(f\"Error uploading to DynamoDB: {str(e)}\")\n",
    "            raise        \n",
    "    \n",
    "    def load_csv_file(self, experiment_id: str):\n",
    "        \"\"\"\n",
    "        Retrieve experiment data from DynamoDB using experiment_id\n",
    "\n",
    "        Args:\n",
    "            experiment_id (str): The ID of the experiment to retrieve\n",
    "\n",
    "        Returns:\n",
    "            dict: The experiment data including ExperimentID, Data, and Type\n",
    "            None: If the experiment is not found\n",
    "        \"\"\"\n",
    "        try:\n",
    "            # Get item from DynamoDB\n",
    "            response = table.get_item(\n",
    "                Key={\n",
    "                    'ExperimentID': experiment_id\n",
    "                }\n",
    "            )\n",
    "\n",
    "            # Check if item exists\n",
    "            if 'Item' in response:\n",
    "                experiment = response['Item']\n",
    "                print(f\"Successfully retrieved experiment {experiment_id}\")\n",
    "\n",
    "                # Convert the data to pandas DataFrame for easier handling\n",
    "                if 'Data' in experiment:\n",
    "                    data = [{k: float(v) if isinstance(v, Decimal) else v \n",
    "                            for k, v in item.items()} \n",
    "                           for item in experiment['Data']]\n",
    "                    df = pd.DataFrame(data)\n",
    "                \n",
    "                    self.state[\"files\"]['training.csv'] = df.to_string(index=False)\n",
    "            else:\n",
    "                print(f\"No experiment found with ID: {experiment_id}\")\n",
    "\n",
    "        except Exception as e:\n",
    "            print(f\"Error retrieving experiment: {str(e)}\")\n",
    "            raise\n",
    "    \n",
    "    @staticmethod\n",
    "    def list_experiments():\n",
    "        \"\"\"\n",
    "        List all experiments stored in DynamoDB\n",
    "\n",
    "        Returns:\n",
    "            list: List of experiment IDs\n",
    "        \"\"\"\n",
    "        try:\n",
    "            # Scan the table\n",
    "            response = table.scan(\n",
    "                ProjectionExpression='ExperimentID',\n",
    "            )\n",
    "\n",
    "            experiments = response['Items']\n",
    "\n",
    "            # Handle pagination if there are more items\n",
    "            while 'LastEvaluatedKey' in response:\n",
    "                response = table.scan(\n",
    "                    ProjectionExpression='ExperimentID',\n",
    "                    ExclusiveStartKey=response['LastEvaluatedKey']\n",
    "                )\n",
    "                experiments.extend(response['Items'])\n",
    "\n",
    "            # Sort experiments by ID\n",
    "            experiments.sort(key=lambda x: x['ExperimentID'])\n",
    "\n",
    "            # Print experiments\n",
    "            print(\"\\nStored Experiments:\")\n",
    "            print(\"-\" * 50)\n",
    "            print(f\"{'ExperimentID':<30} {'Type':<20}\")\n",
    "            print(\"-\" * 50)\n",
    "            for exp in experiments:\n",
    "                print(f\"{exp['ExperimentID']:<30}\")\n",
    "\n",
    "            return experiments\n",
    "\n",
    "        except Exception as e:\n",
    "            print(f\"Error listing experiments: {str(e)}\")\n",
    "            raise\n",
    "        \n",
    "    def add_protein(self, file_name: str):\n",
    "        \"\"\"\n",
    "        Load fasta sequences from the file\n",
    "        \n",
    "        Args:\n",
    "            file_name (str): Path to the fasta file\n",
    "        \"\"\"\n",
    "        fasta_sequences = SeqIO.parse(open(f\"protein/{file_name}\"),\"fasta\")\n",
    "        self.state[\"proteins\"] = fasta_sequences\n",
    "        \n",
    "    def chat(self, message: str):\n",
    "        \"\"\"\n",
    "        Process user message and update the conversation state.\n",
    "    \n",
    "        Args:\n",
    "            message (str): Input message string from the user\n",
    "\n",
    "        Returns:\n",
    "            dict: State object containing the updated conversation state\n",
    "        \"\"\"\n",
    "        self.state[\"messages\"].append(HumanMessage(content=message))\n",
    "        self.state = self.graph.invoke(self.state)\n",
    "        return self.state"
   ]
  },
  {
   "cell_type": "markdown",
   "id": "efdef35c-9b6f-42ba-befc-aed120470e5b",
   "metadata": {},
   "source": [
    "#### Prompt examples\n",
    "`1. EGFR 단백질의 기본 정보를 알려줘.` \\\n",
    "`2.1. 첨부한 \"train.csv\" 파일의 정보와 너의 기본 지식을 바탕으로 \"test.csv\" 파일에 있는 분자들의 특성을 예측해줘.` \\\n",
    "`2.2. DynamoDB에 저장된 \"train.csv\" 파일의 정보와 너의 기본 지식을 바탕으로 \"test.csv\" 파일에 있는 분자들의 특성을 예측해줘` \\\n",
    "`3. 첨부한 파일의 단백질의 구조를 예측해줘.`"
   ]
  },
  {
   "cell_type": "markdown",
   "id": "8f7f7bd7-23e8-4e7a-97e7-30db8db2d813",
   "metadata": {},
   "source": [
    "### Senario 1"
   ]
  },
  {
   "cell_type": "code",
   "execution_count": 17,
   "id": "74676630-d26e-4d92-a01b-f2c5acb5da03",
   "metadata": {
    "tags": []
   },
   "outputs": [],
   "source": [
    "agent = DrugDiscoveryAssistantAgent()"
   ]
  },
  {
   "cell_type": "code",
   "execution_count": 18,
   "id": "557ce83e-9404-48ba-8ed5-f25d201c1739",
   "metadata": {
    "tags": []
   },
   "outputs": [],
   "source": [
    "# user_input = agent.input_handler.get_input(\"User: \")\n",
    "user_input = \"EGFR 단백질의 기본 정보를 알려줘.\""
   ]
  },
  {
   "cell_type": "code",
   "execution_count": 19,
   "id": "808cfe27-4f7c-41d7-b310-c19909dfaf37",
   "metadata": {
    "tags": []
   },
   "outputs": [],
   "source": [
    "response = agent.chat(user_input)"
   ]
  },
  {
   "cell_type": "code",
   "execution_count": 20,
   "id": "67a92734-fe9b-4db9-890e-5b86c7c6d61b",
   "metadata": {
    "tags": []
   },
   "outputs": [
    {
     "data": {
      "text/plain": [
       "{'messages': [HumanMessage(content='EGFR 단백질의 기본 정보를 알려줘.', additional_kwargs={}, response_metadata={})],\n",
       " 'next_step': 'basic_qa',\n",
       " 'files': {},\n",
       " 'current_response': 'EGFR (Epidermal Growth Factor Receptor)에 대한 기본 정보를 알려드리겠습니다:\\n\\n1. 기본 특성\\n- 세포막 표면에 존재하는 수용체 타이로신 키나아제(RTK)\\n- 170 kDa 크기의 막관통 단백질\\n- ErbB/HER 패밀리에 속함\\n\\n2. 구조\\n- 세포외 도메인: 리간드 결합 부위\\n- 막관통 도메인\\n- 세포내 도메인: 티로신 키나아제 활성을 가짐\\n\\n3. 주요 기능\\n- 세포 증식, 생존, 분화, 이동 조절\\n- 상처 치유\\n- 조직 항상성 유지\\n\\n4. 활성화 기전\\n- EGF 등의 리간드 결합\\n- 수용체 이합체화\\n- 티로신 키나아제 활성화\\n- 하위 신호전달 경로 활성화\\n\\n5. 임상적 중요성\\n- 여러 암종에서 과발현/변이 발견\\n- 폐암, 대장암, 유방암 등의 주요 표적\\n- EGFR 표적 치료제 개발의 중요 타겟\\n\\n6. 대표적인 EGFR 표적 약물\\n- 게피티니브(Gefitinib)\\n- 얼로티닙(Erlotinib)\\n- 세툭시맙(Cetuximab)'}"
      ]
     },
     "execution_count": 20,
     "metadata": {},
     "output_type": "execute_result"
    }
   ],
   "source": [
    "response"
   ]
  },
  {
   "cell_type": "markdown",
   "id": "012abad1-978b-4e67-96d4-fb55942dd3f8",
   "metadata": {},
   "source": [
    "### Senario 2"
   ]
  },
  {
   "cell_type": "markdown",
   "id": "7a65e85a-fc98-47ac-a3bd-d3f78db26776",
   "metadata": {},
   "source": [
    "#### From uploaded files"
   ]
  },
  {
   "cell_type": "code",
   "execution_count": 21,
   "id": "d7cbce67-62ce-4084-aac8-136b32c422b3",
   "metadata": {
    "tags": []
   },
   "outputs": [],
   "source": [
    "agent = DrugDiscoveryAssistantAgent()"
   ]
  },
  {
   "cell_type": "code",
   "execution_count": 22,
   "id": "031f3cec-acfd-4580-b1df-6899bae5a7df",
   "metadata": {
    "tags": []
   },
   "outputs": [],
   "source": [
    "user_input = '첨부한 \"train.csv\" 파일의 정보와 너의 기본 지식을 바탕으로 \"test.csv\" 파일에 있는 분자들의 특성을 예측해줘'"
   ]
  },
  {
   "cell_type": "code",
   "execution_count": 23,
   "id": "9a4ad785-68c6-441d-b7fe-310b2f8a45e9",
   "metadata": {
    "tags": []
   },
   "outputs": [
    {
     "name": "stdout",
     "output_type": "stream",
     "text": [
      "Successfully uploaded experiment Solubility_Training_hasunyu_202411191731985180 to DynamoDB\n"
     ]
    }
   ],
   "source": [
    "agent.add_and_save_csv_file(\"training.csv\", experiment_name=\"Solubility_Training\")\n",
    "agent.add_csv_file(\"test.csv\")"
   ]
  },
  {
   "cell_type": "code",
   "execution_count": 24,
   "id": "91b95bd9-ee0c-446b-acd1-74624e5cc54f",
   "metadata": {
    "tags": []
   },
   "outputs": [
    {
     "name": "stdout",
     "output_type": "stream",
     "text": [
      "예측 결과가 molecule/test_prediction.csv에 저장되었습니다.\n"
     ]
    }
   ],
   "source": [
    "response = agent.chat(user_input)"
   ]
  },
  {
   "cell_type": "code",
   "execution_count": 25,
   "id": "68cdfb37-eadb-4941-952e-917201d3e234",
   "metadata": {
    "tags": []
   },
   "outputs": [
    {
     "name": "stdout",
     "output_type": "stream",
     "text": [
      "상관관계 플롯이 correlation_plot.png에 저장되었습니다.\n"
     ]
    },
    {
     "data": {
      "image/png": "[encoded data removed]",
      "text/plain": [
       "<Figure size 1000x800 with 1 Axes>"
      ]
     },
     "metadata": {},
     "output_type": "display_data"
    }
   ],
   "source": [
    "previous_file = 'molecule/test_gt.csv'\n",
    "current_file = 'molecule/test_prediction.csv'\n",
    "    \n",
    "# 데이터 로드 및 전처리\n",
    "merged_df = load_and_prepare_data(previous_file, current_file)\n",
    "    \n",
    "# 상관관계 플롯 생성 및 통계 계산\n",
    "r_squared, rmse, correlation = create_correlation_plot(merged_df)"
   ]
  },
  {
   "cell_type": "markdown",
   "id": "fedb0eda-5ae9-4b13-b67d-cb5b96fda40b",
   "metadata": {},
   "source": [
    "#### From files in DynamoDB"
   ]
  },
  {
   "cell_type": "code",
   "execution_count": 26,
   "id": "1b506e9c-9546-4995-8b4e-6b45f803233b",
   "metadata": {
    "tags": []
   },
   "outputs": [],
   "source": [
    "agent = DrugDiscoveryAssistantAgent()"
   ]
  },
  {
   "cell_type": "code",
   "execution_count": 27,
   "id": "4bb79bdc-bd7f-4e0d-b2c4-6e917c109e9f",
   "metadata": {
    "tags": []
   },
   "outputs": [
    {
     "name": "stdout",
     "output_type": "stream",
     "text": [
      "\n",
      "Stored Experiments:\n",
      "--------------------------------------------------\n",
      "ExperimentID                   Type                \n",
      "--------------------------------------------------\n",
      "Solubility_Training_hasunyu_202411141731565803\n",
      "Solubility_Training_hasunyu_202411141731565862\n",
      "Solubility_Training_hasunyu_202411151731661773\n",
      "Solubility_Training_hasunyu_202411151731661889\n",
      "Solubility_Training_hasunyu_202411171731883092\n",
      "Solubility_Training_hasunyu_202411171731883803\n",
      "Solubility_Training_hasunyu_202411171731884021\n",
      "Solubility_Training_hasunyu_202411181731888850\n",
      "Solubility_Training_hasunyu_202411181731889053\n",
      "Solubility_Training_hasunyu_202411181731889119\n",
      "Solubility_Training_hasunyu_202411181731889410\n",
      "Solubility_Training_hasunyu_202411181731889844\n",
      "Solubility_Training_hasunyu_202411181731889899\n",
      "Solubility_Training_hasunyu_202411181731890028\n",
      "Solubility_Training_hasunyu_202411181731903378\n",
      "Solubility_Training_hasunyu_202411181731903746\n",
      "Solubility_Training_hasunyu_202411191731977075\n",
      "Solubility_Training_hasunyu_202411191731982444\n",
      "Solubility_Training_hasunyu_202411191731985180\n"
     ]
    },
    {
     "data": {
      "text/plain": [
       "[{'ExperimentID': 'Solubility_Training_hasunyu_202411141731565803'},\n",
       " {'ExperimentID': 'Solubility_Training_hasunyu_202411141731565862'},\n",
       " {'ExperimentID': 'Solubility_Training_hasunyu_202411151731661773'},\n",
       " {'ExperimentID': 'Solubility_Training_hasunyu_202411151731661889'},\n",
       " {'ExperimentID': 'Solubility_Training_hasunyu_202411171731883092'},\n",
       " {'ExperimentID': 'Solubility_Training_hasunyu_202411171731883803'},\n",
       " {'ExperimentID': 'Solubility_Training_hasunyu_202411171731884021'},\n",
       " {'ExperimentID': 'Solubility_Training_hasunyu_202411181731888850'},\n",
       " {'ExperimentID': 'Solubility_Training_hasunyu_202411181731889053'},\n",
       " {'ExperimentID': 'Solubility_Training_hasunyu_202411181731889119'},\n",
       " {'ExperimentID': 'Solubility_Training_hasunyu_202411181731889410'},\n",
       " {'ExperimentID': 'Solubility_Training_hasunyu_202411181731889844'},\n",
       " {'ExperimentID': 'Solubility_Training_hasunyu_202411181731889899'},\n",
       " {'ExperimentID': 'Solubility_Training_hasunyu_202411181731890028'},\n",
       " {'ExperimentID': 'Solubility_Training_hasunyu_202411181731903378'},\n",
       " {'ExperimentID': 'Solubility_Training_hasunyu_202411181731903746'},\n",
       " {'ExperimentID': 'Solubility_Training_hasunyu_202411191731977075'},\n",
       " {'ExperimentID': 'Solubility_Training_hasunyu_202411191731982444'},\n",
       " {'ExperimentID': 'Solubility_Training_hasunyu_202411191731985180'}]"
      ]
     },
     "execution_count": 27,
     "metadata": {},
     "output_type": "execute_result"
    }
   ],
   "source": [
    "agent.list_experiments()"
   ]
  },
  {
   "cell_type": "code",
   "execution_count": 28,
   "id": "091da664-57d4-4c52-a643-8f5a293f1d26",
   "metadata": {
    "tags": []
   },
   "outputs": [
    {
     "name": "stdout",
     "output_type": "stream",
     "text": [
      "Successfully retrieved experiment Solubility_Training_hasunyu_202411151731661889\n"
     ]
    }
   ],
   "source": [
    "agent.load_csv_file(\"Solubility_Training_hasunyu_202411151731661889\")\n",
    "agent.add_csv_file(\"test.csv\")"
   ]
  },
  {
   "cell_type": "code",
   "execution_count": 29,
   "id": "03b5dd42-341f-470a-986c-1701033ec72a",
   "metadata": {
    "tags": []
   },
   "outputs": [
    {
     "name": "stdout",
     "output_type": "stream",
     "text": [
      "예측 결과가 molecule/test_prediction.csv에 저장되었습니다.\n"
     ]
    }
   ],
   "source": [
    "response = agent.chat(user_input)"
   ]
  },
  {
   "cell_type": "markdown",
   "id": "a1a0d3d0-fa3f-405e-8e47-68e2038f2a7f",
   "metadata": {},
   "source": [
    "### Senario 3"
   ]
  },
  {
   "cell_type": "code",
   "execution_count": 30,
   "id": "cb685e44-56de-4caf-b467-3e33f248ea88",
   "metadata": {
    "tags": []
   },
   "outputs": [],
   "source": [
    "agent = DrugDiscoveryAssistantAgent()"
   ]
  },
  {
   "cell_type": "code",
   "execution_count": 31,
   "id": "af4819f0-d646-4bfe-b049-5ba4a6238b1e",
   "metadata": {
    "tags": []
   },
   "outputs": [],
   "source": [
    "user_input = '첨부한 fasta 파일에 존재하는 단백질 서열의 구조를 예측해줘.'"
   ]
  },
  {
   "cell_type": "code",
   "execution_count": 32,
   "id": "d6479598-0a95-402e-b9fb-dcecbac58702",
   "metadata": {
    "tags": []
   },
   "outputs": [],
   "source": [
    "agent.add_protein(\"input.fasta\")"
   ]
  },
  {
   "cell_type": "code",
   "execution_count": 33,
   "id": "70f0fccd-8a59-4e85-9960-be2badb1ac61",
   "metadata": {
    "tags": []
   },
   "outputs": [
    {
     "data": {
      "text/plain": [
       "<Bio.SeqIO.FastaIO.FastaIterator at 0x7fdf9918ebc0>"
      ]
     },
     "execution_count": 33,
     "metadata": {},
     "output_type": "execute_result"
    }
   ],
   "source": [
    "agent.state[\"proteins\"]"
   ]
  },
  {
   "cell_type": "code",
   "execution_count": 34,
   "id": "15616a81-7448-4cbb-8562-cc5f318deaeb",
   "metadata": {
    "tags": []
   },
   "outputs": [],
   "source": [
    "response = agent.chat(user_input)"
   ]
  },
  {
   "cell_type": "markdown",
   "id": "d9a5e66e-c459-4b1e-aa52-7696ae99277e",
   "metadata": {},
   "source": [
    "##### visualization"
   ]
  },
  {
   "cell_type": "code",
   "execution_count": null,
   "id": "fa91ff71-6809-4b7e-8b18-e6939124df4f",
   "metadata": {},
   "outputs": [],
   "source": []
  }
 ],
 "metadata": {
  "kernelspec": {
   "display_name": "conda_python3",
   "language": "python",
   "name": "conda_python3"
  },
  "language_info": {
   "codemirror_mode": {
    "name": "ipython",
    "version": 3
   },
   "file_extension": ".py",
   "mimetype": "text/x-python",
   "name": "python",
   "nbconvert_exporter": "python",
   "pygments_lexer": "ipython3",
   "version": "3.10.15"
  }
 },
 "nbformat": 4,
 "nbformat_minor": 5
}
